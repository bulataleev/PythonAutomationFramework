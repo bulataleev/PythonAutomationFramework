{
 "cells": [
  {
   "cell_type": "code",
   "execution_count": 2,
   "id": "e7b6ff14",
   "metadata": {},
   "outputs": [
    {
     "data": {
      "text/plain": [
       "'hi there!'"
      ]
     },
     "execution_count": 2,
     "metadata": {},
     "output_type": "execute_result"
    }
   ],
   "source": [
    "msg =\"hi there!\"\n",
    "msg\n"
   ]
  },
  {
   "cell_type": "code",
   "execution_count": 4,
   "id": "63219466",
   "metadata": {},
   "outputs": [
    {
     "name": "stdout",
     "output_type": "stream",
     "text": [
      "asd\n"
     ]
    }
   ],
   "source": [
    "print(\"asd\")"
   ]
  },
  {
   "cell_type": "code",
   "execution_count": 31,
   "id": "5396f734",
   "metadata": {},
   "outputs": [],
   "source": [
    "#numpy arrays\n",
    "import numpy as np\n",
    "import matplotlib.pylab as plt\n",
    "from numpy import random\n",
    "\n",
    "list_one=[1,2,3,4,5,6]\n",
    "np_arr_one = np.array(list_one, dtype=np.int8)\n",
    "np_arr_one\n",
    "\n",
    "m_list=[[1,2,3,4],[4,5,6,7,8],[2,5,7,8]]\n",
    "np_m_arr=np.array(m_list, dtype=object)\n",
    "np_m_arr\n",
    "\n",
    "gen_arr = np.arange(1,10,2)#generated ints with step 2, so every second value is returned\n",
    "gen_arr\n",
    "floar_arr = np.linspace(1,10,8) #generated 10 values with 8digits after comma\n",
    "floar_arr\n",
    "zer_arr=np.zeros(5)\n",
    "zer_arr\n",
    "np.random.randint(1,6,3)#from 1 to 6 genereated 3 rand integers\n",
    "np_m_arr_1=np.random.randint(1,6, size=(2,3)) #sets 2 arra with lentgh 3\n",
    "\n",
    "#np.random.randint? #shows the documentaion of a method\n"
   ]
  },
  {
   "cell_type": "code",
   "execution_count": 45,
   "id": "afcaaaf4",
   "metadata": {},
   "outputs": [
    {
     "name": "stdout",
     "output_type": "stream",
     "text": [
      "[[1 6 5]\n",
      " [5 6 5]]\n",
      "new array [[1 2 5]\n",
      " [5 6 5]]\n",
      "[2 6]\n"
     ]
    },
    {
     "data": {
      "text/plain": [
       "array([[1, 6, 5],\n",
       "       [5, 6, 5]])"
      ]
     },
     "execution_count": 45,
     "metadata": {},
     "output_type": "execute_result"
    }
   ],
   "source": [
    "#slicing and indexes\n",
    "np_m_arr_1[0,0]=1\n",
    "print(np_m_arr_1)\n",
    "np_m_arr_1.itemset((0,1),2)\n",
    "print(\"new array\" ,np_m_arr_1)\n",
    "np_m_arr_1.shape\n",
    "print(np.take(np_m_arr_1,[1,4]))#1and 4 are indices which it turnes like into one array\n",
    "np.put(np_m_arr_1,[1,4],[6,6])#put 6 nunmber values to inex position of 1 and 4\n",
    "np_m_arr_1"
   ]
  },
  {
   "cell_type": "code",
   "execution_count": null,
   "id": "0f30d1e9",
   "metadata": {},
   "outputs": [],
   "source": []
  }
 ],
 "metadata": {
  "kernelspec": {
   "display_name": "Python 3.9.12 ('base')",
   "language": "python",
   "name": "python3"
  },
  "language_info": {
   "codemirror_mode": {
    "name": "ipython",
    "version": 3
   },
   "file_extension": ".py",
   "mimetype": "text/x-python",
   "name": "python",
   "nbconvert_exporter": "python",
   "pygments_lexer": "ipython3",
   "version": "3.9.12"
  },
  "vscode": {
   "interpreter": {
    "hash": "1548229dce4000d0bdd44c70482feff95e5bc2e745b5dc1213318fc277cca22a"
   }
  }
 },
 "nbformat": 4,
 "nbformat_minor": 5
}
