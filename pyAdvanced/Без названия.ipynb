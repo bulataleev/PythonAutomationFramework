{
 "cells": [
  {
   "cell_type": "code",
   "execution_count": 2,
   "id": "e7b6ff14",
   "metadata": {},
   "outputs": [
    {
     "data": {
      "text/plain": [
       "'hi there!'"
      ]
     },
     "execution_count": 2,
     "metadata": {},
     "output_type": "execute_result"
    }
   ],
   "source": [
    "msg =\"hi there!\"\n",
    "msg\n"
   ]
  },
  {
   "cell_type": "code",
   "execution_count": 4,
   "id": "63219466",
   "metadata": {},
   "outputs": [
    {
     "name": "stdout",
     "output_type": "stream",
     "text": [
      "asd\n"
     ]
    }
   ],
   "source": [
    "print(\"asd\")"
   ]
  }
 ],
 "metadata": {
  "kernelspec": {
   "display_name": "Python 3 (ipykernel)",
   "language": "python",
   "name": "python3"
  },
  "language_info": {
   "codemirror_mode": {
    "name": "ipython",
    "version": 3
   },
   "file_extension": ".py",
   "mimetype": "text/x-python",
   "name": "python",
   "nbconvert_exporter": "python",
   "pygments_lexer": "ipython3",
   "version": "3.9.12"
  }
 },
 "nbformat": 4,
 "nbformat_minor": 5
}
